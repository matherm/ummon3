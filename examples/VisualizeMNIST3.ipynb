{
 "cells": [
  {
   "cell_type": "code",
   "execution_count": 1,
   "metadata": {},
   "outputs": [
    {
     "data": {
      "text/plain": [
       "<Figure size 432x288 with 0 Axes>"
      ]
     },
     "metadata": {},
     "output_type": "display_data"
    }
   ],
   "source": [
    "%matplotlib inline\n",
    "\n",
    "import sys\n",
    "sys.path.insert(0,'../../ummon3')  \n",
    "sys.path.insert(0,'../ummon3')   \n",
    "\n",
    "import matplotlib.pyplot as plt\n",
    "import numpy as np\n",
    "import torch.nn as nn\n",
    "import load_mnist\n",
    "from ummon import *\n",
    "\n",
    "# Some nice default configuration for plots\n",
    "plt.gray();\n",
    "plt.rcParams['figure.figsize'] = 17, 12;\n",
    "plt.rcParams['axes.grid'] = True;\n",
    "\n",
    "# show a set of images\n",
    "def plot_gallery(data, shape, interpolation='nearest'):\n",
    "    for i in range(data.shape[0]):\n",
    "        plt.subplot(1, data.shape[0], (i + 1));\n",
    "        plt.imshow(data[i].reshape(shape), interpolation=interpolation);\n",
    "        plt.xticks(()), plt.yticks(());"
   ]
  },
  {
   "cell_type": "markdown",
   "metadata": {},
   "source": [
    "read MNIST data set and scale it"
   ]
  },
  {
   "cell_type": "code",
   "execution_count": 2,
   "metadata": {},
   "outputs": [
    {
     "name": "stdout",
     "output_type": "stream",
     "text": [
      "MNIST, Classes:     10\n",
      "Training Images:    (50000, 784)\n",
      "Validation Images:  (10000, 784)\n",
      "Test Images:        (10000, 784)\n"
     ]
    }
   ],
   "source": [
    "X0,y0,Xv,yv,X1,y1 = load_mnist.read([0,1,2,3,4,5,6,7,8,9], path=\"\")\n",
    "x2 = (1.0/255.0)*Xv.astype('float32')"
   ]
  },
  {
   "cell_type": "markdown",
   "metadata": {},
   "source": [
    "Convolutional network MNIST 3"
   ]
  },
  {
   "cell_type": "code",
   "execution_count": 3,
   "metadata": {},
   "outputs": [
    {
     "name": "stdout",
     "output_type": "stream",
     "text": [
      "Sequential:\n",
      "  unfla: Unflatten([1,1,bs,784]->[bs,1,28,28])\n",
      "  conv0: Conv([bs,1,28,28]->[bs,20,24,24],mask[20,1,5,5],str=(1,1),pad=0,bias=True)\n",
      "  pool0: MaxPool([bs,20,24,24]->[bs,20,12,12];sz=2,2;str=2,2;pad=0)\n",
      "  relu0: ReLU()\n",
      "  conv1: Conv([bs,20,12,12]->[bs,40,8,8],mask[40,20,5,5],str=(1,1),pad=0,bias=True)\n",
      "  pool1: MaxPool([bs,40,8,8]->[bs,40,4,4];sz=2,2;str=2,2;pad=0)\n",
      "  relu1: ReLU()\n",
      "  flatt: Flatten([bs,40,4,4]->[1,1,bs,640])\n",
      "  line0: Linear([1,1,bs,640]->[1,1,bs,516]), bias=True)\n",
      "  drop0: Dropout([1,1,bs,516]->[1,1,bs,516];rate=0.5)\n",
      "  relu2: ReLU()\n",
      "  line1: Linear([1,1,bs,516]->[1,1,bs,10]), bias=True)\n",
      "  -\n",
      "  Number of layers       : 12\n",
      "  Number of neurons      : 18126\n",
      "  Number of weights      : 1918006\n",
      "  Number of adj. weights : 356486\n",
      "\n"
     ]
    }
   ],
   "source": [
    "cnet = Sequential(\n",
    "    ('unfla', Unflatten([784],          [1,28,28])),\n",
    "    ('conv0', Conv(     [1,28,28],      [20,5,5], init='xavier_normal_')),\n",
    "    ('pool0', MaxPool(  [20,24,24],     (2,2), (2,2))),\n",
    "    ('relu0', nn.ReLU()),\n",
    "    ('conv1', Conv(     [20,12,12],     [40,5,5], init='xavier_normal_')),\n",
    "    ('pool1', MaxPool(  [40,8,8],       (2,2), (2,2))),\n",
    "    ('relu1', nn.ReLU()),\n",
    "    ('flatt', Flatten(  [40,4,4])),\n",
    "    ('line0', Linear(   [640],          516, 'xavier_normal_')),\n",
    "    ('drop0', Dropout(  [516],          0.5)),\n",
    "    ('relu2', nn.ReLU()),\n",
    "    ('line1', Linear(   [516],          10, 'xavier_normal_'))\n",
    ")\n",
    "print(cnet)"
   ]
  },
  {
   "cell_type": "markdown",
   "metadata": {},
   "source": [
    "Read in weights from trained network (use mnist_3.py):"
   ]
  },
  {
   "cell_type": "code",
   "execution_count": 4,
   "metadata": {},
   "outputs": [],
   "source": [
    "trs = Trainingstate()\n",
    "trs.load_state('mnist_3.pth.tar')\n",
    "trs.load_weights_(cnet)"
   ]
  },
  {
   "cell_type": "markdown",
   "metadata": {},
   "source": [
    "## Receptive fields of first convolutional layer"
   ]
  },
  {
   "cell_type": "code",
   "execution_count": 5,
   "metadata": {},
   "outputs": [
    {
     "data": {
      "text/plain": [
       "(20, 1, 5, 5)"
      ]
     },
     "execution_count": 5,
     "metadata": {},
     "output_type": "execute_result"
    }
   ],
   "source": [
    "w = cnet.conv0.w\n",
    "b = cnet.conv0.b\n",
    "w.shape"
   ]
  },
  {
   "cell_type": "code",
   "execution_count": 6,
   "metadata": {},
   "outputs": [
    {
     "data": {
      "image/png": "[encoded data removed]",
      "text/plain": [
       "<Figure size 432x288 with 10 Axes>"
      ]
     },
     "metadata": {},
     "output_type": "display_data"
    }
   ],
   "source": [
    "w = np.reshape(w, (20,25))\n",
    "plot_gallery(w[:10,:], shape=(5, 5))"
   ]
  },
  {
   "cell_type": "markdown",
   "metadata": {},
   "source": [
    "Get the 9 inputs that activate feature map 0 the most:"
   ]
  },
  {
   "cell_type": "code",
   "execution_count": 7,
   "metadata": {},
   "outputs": [
    {
     "data": {
      "text/plain": [
       "(9, 1, 5, 5)"
      ]
     },
     "execution_count": 7,
     "metadata": {},
     "output_type": "execute_result"
    }
   ],
   "source": [
    "vis = Visualizer(cnet)\n",
    "y = vis.get_max_inputs('conv0', 0, 9, x2)\n",
    "y.shape"
   ]
  },
  {
   "cell_type": "code",
   "execution_count": 8,
   "metadata": {},
   "outputs": [
    {
     "data": {
      "image/png": "[encoded data removed]",
      "text/plain": [
       "<Figure size 432x288 with 9 Axes>"
      ]
     },
     "metadata": {},
     "output_type": "display_data"
    }
   ],
   "source": [
    "y = np.reshape(y, (9,25))\n",
    "plot_gallery(y, shape=(5, 5))"
   ]
  },
  {
   "cell_type": "markdown",
   "metadata": {},
   "source": [
    "Feature map 1:"
   ]
  },
  {
   "cell_type": "code",
   "execution_count": 9,
   "metadata": {},
   "outputs": [
    {
     "data": {
      "image/png": "[encoded data removed]",
      "text/plain": [
       "<Figure size 432x288 with 9 Axes>"
      ]
     },
     "metadata": {},
     "output_type": "display_data"
    }
   ],
   "source": [
    "y = vis.get_max_inputs('pool0', 1, 9, x2)\n",
    "y = np.reshape(y, (9,36))\n",
    "plot_gallery(y, shape=(6, 6))"
   ]
  },
  {
   "cell_type": "code",
   "execution_count": 10,
   "metadata": {},
   "outputs": [
    {
     "data": {
      "text/plain": [
       "(9, 1, 28, 28)"
      ]
     },
     "execution_count": 10,
     "metadata": {},
     "output_type": "execute_result"
    }
   ],
   "source": [
    "y = vis.saliency('pool0', 0, 9, x2)\n",
    "y.shape"
   ]
  },
  {
   "cell_type": "code",
   "execution_count": 11,
   "metadata": {},
   "outputs": [
    {
     "data": {
      "image/png": "[encoded data removed]",
      "text/plain": [
       "<Figure size 432x288 with 9 Axes>"
      ]
     },
     "metadata": {},
     "output_type": "display_data"
    }
   ],
   "source": [
    "y = np.reshape(abs(y), (9,28*28))\n",
    "plot_gallery(y, shape=(28, 28))"
   ]
  },
  {
   "cell_type": "markdown",
   "metadata": {},
   "source": [
    "## Receptive fields of second convolutional layer"
   ]
  },
  {
   "cell_type": "code",
   "execution_count": 12,
   "metadata": {},
   "outputs": [
    {
     "data": {
      "text/plain": [
       "(40, 20, 5, 5)"
      ]
     },
     "execution_count": 12,
     "metadata": {},
     "output_type": "execute_result"
    }
   ],
   "source": [
    "w = cnet.conv1.w\n",
    "b = cnet.conv1.b\n",
    "w.shape"
   ]
  },
  {
   "cell_type": "code",
   "execution_count": 13,
   "metadata": {},
   "outputs": [
    {
     "data": {
      "text/plain": [
       "(9, 1, 16, 16)"
      ]
     },
     "execution_count": 13,
     "metadata": {},
     "output_type": "execute_result"
    }
   ],
   "source": [
    "y = vis.get_max_inputs('pool1', 0, 9, x2)\n",
    "y.shape"
   ]
  },
  {
   "cell_type": "code",
   "execution_count": 14,
   "metadata": {},
   "outputs": [
    {
     "data": {
      "image/png": "[encoded data removed]",
      "text/plain": [
       "<Figure size 432x288 with 9 Axes>"
      ]
     },
     "metadata": {},
     "output_type": "display_data"
    }
   ],
   "source": [
    "y = np.reshape(y, (9,256))\n",
    "plot_gallery(y, shape=(16, 16))"
   ]
  },
  {
   "cell_type": "code",
   "execution_count": 15,
   "metadata": {},
   "outputs": [
    {
     "data": {
      "text/plain": [
       "(9, 1, 28, 28)"
      ]
     },
     "execution_count": 15,
     "metadata": {},
     "output_type": "execute_result"
    }
   ],
   "source": [
    "y = vis.saliency('pool1', 0, 9, x2)\n",
    "y.shape"
   ]
  },
  {
   "cell_type": "code",
   "execution_count": 16,
   "metadata": {},
   "outputs": [
    {
     "data": {
      "image/png": "[encoded data removed]",
      "text/plain": [
       "<Figure size 432x288 with 9 Axes>"
      ]
     },
     "metadata": {},
     "output_type": "display_data"
    }
   ],
   "source": [
    "y = np.reshape(abs(y), (9,28*28))\n",
    "plot_gallery(y, shape=(28, 28))"
   ]
  },
  {
   "cell_type": "code",
   "execution_count": 17,
   "metadata": {},
   "outputs": [
    {
     "data": {
      "image/png": "[encoded data removed]",
      "text/plain": [
       "<Figure size 432x288 with 9 Axes>"
      ]
     },
     "metadata": {},
     "output_type": "display_data"
    }
   ],
   "source": [
    "y = vis.get_max_inputs('pool1', 1, 9, x2)\n",
    "y = np.reshape(y, (9,256))\n",
    "plot_gallery(y, shape=(16, 16))"
   ]
  },
  {
   "cell_type": "code",
   "execution_count": 18,
   "metadata": {},
   "outputs": [
    {
     "data": {
      "image/png": "[encoded data removed]",
      "text/plain": [
       "<Figure size 432x288 with 9 Axes>"
      ]
     },
     "metadata": {},
     "output_type": "display_data"
    }
   ],
   "source": [
    "y = vis.get_max_inputs('pool1', 2, 9, x2)\n",
    "y = np.reshape(y, (9,256))\n",
    "plot_gallery(y, shape=(16, 16))"
   ]
  },
  {
   "cell_type": "code",
   "execution_count": 19,
   "metadata": {},
   "outputs": [
    {
     "data": {
      "image/png": "[encoded data removed]",
      "text/plain": [
       "<Figure size 432x288 with 9 Axes>"
      ]
     },
     "metadata": {},
     "output_type": "display_data"
    }
   ],
   "source": [
    "y = vis.get_max_inputs('pool1', 3, 9, x2)\n",
    "y = np.reshape(y, (9,256))\n",
    "plot_gallery(y, shape=(16, 16))"
   ]
  },
  {
   "cell_type": "code",
   "execution_count": 20,
   "metadata": {},
   "outputs": [
    {
     "data": {
      "image/png": "[encoded data removed]",
      "text/plain": [
       "<Figure size 432x288 with 9 Axes>"
      ]
     },
     "metadata": {},
     "output_type": "display_data"
    }
   ],
   "source": [
    "y = vis.get_max_inputs('pool1', 4, 9, x2)\n",
    "y = np.reshape(y, (9,256))\n",
    "plot_gallery(y, shape=(16, 16))"
   ]
  },
  {
   "cell_type": "code",
   "execution_count": 21,
   "metadata": {},
   "outputs": [
    {
     "data": {
      "image/png": "[encoded data removed]",
      "text/plain": [
       "<Figure size 432x288 with 9 Axes>"
      ]
     },
     "metadata": {},
     "output_type": "display_data"
    }
   ],
   "source": [
    "y = vis.get_max_inputs('flatt', 0, 9, x2)\n",
    "y = np.reshape(y, (9,256))\n",
    "plot_gallery(y, shape=(16, 16))"
   ]
  },
  {
   "cell_type": "markdown",
   "metadata": {},
   "source": [
    "## Receptive fields in first linear layer"
   ]
  },
  {
   "cell_type": "code",
   "execution_count": 22,
   "metadata": {},
   "outputs": [
    {
     "data": {
      "image/png": "[encoded data removed]",
      "text/plain": [
       "<Figure size 432x288 with 9 Axes>"
      ]
     },
     "metadata": {},
     "output_type": "display_data"
    }
   ],
   "source": [
    "y = vis.get_max_inputs('line0', 0, 9, x2)\n",
    "y = np.reshape(y, (9,28*28))\n",
    "plot_gallery(y, shape=(28, 28))"
   ]
  },
  {
   "cell_type": "code",
   "execution_count": 25,
   "metadata": {},
   "outputs": [
    {
     "data": {
      "image/png": "[encoded data removed]",
      "text/plain": [
       "<Figure size 432x288 with 9 Axes>"
      ]
     },
     "metadata": {},
     "output_type": "display_data"
    }
   ],
   "source": [
    "y = vis.saliency('line0', 0, 9, x2, guided_backprop=True)\n",
    "y = np.reshape(abs(y), (9,28*28))\n",
    "plot_gallery(y, shape=(28, 28))"
   ]
  },
  {
   "cell_type": "code",
   "execution_count": null,
   "metadata": {},
   "outputs": [],
   "source": []
  }
 ],
 "metadata": {
  "kernelspec": {
   "display_name": "Python 3",
   "language": "python",
   "name": "python3"
  },
  "language_info": {
   "codemirror_mode": {
    "name": "ipython",
    "version": 3
   },
   "file_extension": ".py",
   "mimetype": "text/x-python",
   "name": "python",
   "nbconvert_exporter": "python",
   "pygments_lexer": "ipython3",
   "version": "3.7.0"
  }
 },
 "nbformat": 4,
 "nbformat_minor": 2
}
